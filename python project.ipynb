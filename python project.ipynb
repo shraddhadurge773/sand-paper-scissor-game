{
 "cells": [
  {
   "cell_type": "code",
   "execution_count": 8,
   "id": "122e2373",
   "metadata": {},
   "outputs": [
    {
     "name": "stdout",
     "output_type": "stream",
     "text": [
      "stone paper scissor game choose 0-stone, 1-paper, 2-scissor\n",
      "enter user choice1\n",
      "user choice is:\n",
      "1\n",
      "computer choice is:\n",
      "2\n",
      "you lose!!!!\n"
     ]
    }
   ],
   "source": [
    "import random\n",
    "\n",
    "stone = '''\n",
    "---'   ____)\n",
    "      (_____)\n",
    "      (_____)\n",
    "      (____)\n",
    "---.__(___)\n",
    "'''\n",
    "\n",
    "paper = '''\n",
    "    _______\n",
    "---'   ____)____\n",
    "          ______)\n",
    "          _______)\n",
    "         _______)\n",
    "---.__________)\n",
    "'''\n",
    "\n",
    "scissor = '''\n",
    "---'   ____)____\n",
    "          ______)\n",
    "       __________)\n",
    "      (____)\n",
    "---.__(___)\n",
    "'''\n",
    "\n",
    "print('stone paper scissor game choose 0-stone, 1-paper, 2-scissor')\n",
    "\n",
    "list = [stone,paper,scissor]\n",
    "user_choice = int(input(\"enter user choice\"))\n",
    "print(\"user choice is:\")\n",
    "print(user_choice)\n",
    "computer_choice = random.randint(0,2)\n",
    "print(\"computer choice is:\")\n",
    "print(computer_choice)\n",
    "if user_choice==0 and computer_choice==2:\n",
    "    print(\"you win!!!\")#0 stand for stone and 2 stand for scissors\n",
    "elif user_choice==2 and computer_choice==0:\n",
    "    print(\"you lose!!!!\")\n",
    "elif (computer_choice >user_choice):\n",
    "    print(\"you lose!!!!\")\n",
    "elif (user_choice>computer_choice):\n",
    "    print(\"you win!!!!\")\n",
    "elif user_choice >2 or user_choice<0:\n",
    "    print('You lose !! (Because choice wrong input )')\n",
    "elif (user_choice == computer_choice):\n",
    "    print(\"It\\'s Draw !!!\")\n",
    "\n",
    "\n"
   ]
  },
  {
   "cell_type": "code",
   "execution_count": null,
   "id": "50937310",
   "metadata": {},
   "outputs": [],
   "source": [
    "\n",
    "\n"
   ]
  },
  {
   "cell_type": "code",
   "execution_count": null,
   "id": "d23ddaee",
   "metadata": {},
   "outputs": [],
   "source": []
  }
 ],
 "metadata": {
  "kernelspec": {
   "display_name": "Python 3",
   "language": "python",
   "name": "python3"
  },
  "language_info": {
   "codemirror_mode": {
    "name": "ipython",
    "version": 3
   },
   "file_extension": ".py",
   "mimetype": "text/x-python",
   "name": "python",
   "nbconvert_exporter": "python",
   "pygments_lexer": "ipython3",
   "version": "3.8.3"
  }
 },
 "nbformat": 4,
 "nbformat_minor": 5
}
